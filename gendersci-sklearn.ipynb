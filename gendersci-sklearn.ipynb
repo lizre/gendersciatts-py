{
 "cells": [
  {
   "cell_type": "markdown",
   "metadata": {},
   "source": [
    "#### The data: Gender-Science Implicit Association Test (IAT) and demographics\n",
    "\n",
    "The Gender-Science Implicit Association Test (IAT) is a psychological reaction-time measure of how quickly people can pair female versus male names with words representing sciences versus liberal arts. In other words, it measures people's gut-reaction stereotypes that \"male\" goes with \"science\" more than \"female\" does. You can take the test yourself at https://implicit.harvard.edu/implicit/selectatest.html, and view basic statistical information at pi-liz.shinyapps.io/explore-iat/; see Gender-Science tab on the left. \n",
    "\n",
    "Implicit Association Test (IAT) scores tend to range from about -1.5 to about 1.5, and the average score for Gender-Science is about .35. Higher positive scores indicate a greater mental association/stereotype linking \"male\" to \"science\" than \"female\" to \"science\", while negative scores indicate a stronger association between \"female\" and \"science\". The data I use here has 8,000 people who took the Gender-Science IAT, including their scores, their own demographic information, and the year in which their data was recorded. \n",
    "\n",
    "#### Let's get started with setup!"
   ]
  },
  {
   "cell_type": "code",
   "execution_count": 1,
   "metadata": {},
   "outputs": [
    {
     "name": "stderr",
     "output_type": "stream",
     "text": [
      "/Users/lizredford/anaconda3/lib/python3.6/site-packages/statsmodels/compat/pandas.py:56: FutureWarning: The pandas.core.datetools module is deprecated and will be removed in a future version. Please use the pandas.tseries module instead.\n",
      "  from pandas.core import datetools\n"
     ]
    }
   ],
   "source": [
    "import numpy as np\n",
    "import pandas \n",
    "import matplotlib as plt\n",
    "import seaborn as sns\n",
    "import scipy\n",
    "import statsmodels.api as sm\n",
    "import statsmodels.formula.api as smf\n",
    "import statsmodels"
   ]
  },
  {
   "cell_type": "code",
   "execution_count": 2,
   "metadata": {},
   "outputs": [],
   "source": [
    "genderiat = pandas.read_csv('gendersciiatdat.csv')"
   ]
  },
  {
   "cell_type": "code",
   "execution_count": 3,
   "metadata": {},
   "outputs": [],
   "source": [
    "# Give each participant a number; this'll be used later in Item 3 for the gender t-test\n",
    "genderiat['participant_number'] = range(1, len(genderiat) + 1)"
   ]
  },
  {
   "cell_type": "markdown",
   "metadata": {},
   "source": [
    "#### It looks like some gender responses are \".\"; assume to be missing at random and remove."
   ]
  },
  {
   "cell_type": "code",
   "execution_count": 4,
   "metadata": {},
   "outputs": [],
   "source": [
    "genderiat['sex'].value_counts()\n",
    "genderiat.drop(genderiat[genderiat.sex == \".\"].index, inplace=True)"
   ]
  },
  {
   "cell_type": "markdown",
   "metadata": {},
   "source": [
    "#### In anticipating the later steps, let's also deal with the rest of the missing data now. \n",
    "\n",
    "Political ideology, which we'll look at later, has \"NaN\" values, so let's remove those. Moreover, for Step 4, many algorithms can't deal with missing data. Let's use dropna to drop missing values from the whole dataset. "
   ]
  },
  {
   "cell_type": "code",
   "execution_count": 5,
   "metadata": {},
   "outputs": [],
   "source": [
    "genderiat = genderiat.dropna(axis=0)\n",
    "\n",
    "# Reset index or some row numbers will be missing from removing NAs\n",
    "genderiat = genderiat.reset_index(drop = True)"
   ]
  },
  {
   "cell_type": "markdown",
   "metadata": {},
   "source": [
    "#### How IAT scores are distributed:"
   ]
  },
  {
   "cell_type": "code",
   "execution_count": 6,
   "metadata": {
    "scrolled": true
   },
   "outputs": [
    {
     "data": {
      "text/plain": [
       "(array([1.000e+00, 0.000e+00, 0.000e+00, 4.000e+00, 3.000e+00, 2.100e+01,\n",
       "        5.700e+01, 1.180e+02, 2.920e+02, 4.030e+02, 6.770e+02, 9.060e+02,\n",
       "        1.092e+03, 1.219e+03, 1.021e+03, 8.070e+02, 4.530e+02, 1.690e+02,\n",
       "        4.300e+01, 1.000e+01]),\n",
       " array([-1.78898611, -1.62361315, -1.45824019, -1.29286724, -1.12749428,\n",
       "        -0.96212132, -0.79674836, -0.6313754 , -0.46600244, -0.30062948,\n",
       "        -0.13525652,  0.03011644,  0.1954894 ,  0.36086235,  0.52623531,\n",
       "         0.69160827,  0.85698123,  1.02235419,  1.18772715,  1.35310011,\n",
       "         1.51847307]),\n",
       " <a list of 20 Patch objects>)"
      ]
     },
     "execution_count": 6,
     "metadata": {},
     "output_type": "execute_result"
    },
    {
     "data": {
      "image/png": "[encoded data removed]",
      "text/plain": [
       "<matplotlib.figure.Figure at 0x1050060f0>"
      ]
     },
     "metadata": {},
     "output_type": "display_data"
    }
   ],
   "source": [
    "%matplotlib inline\n",
    "import matplotlib.pyplot as plt\n",
    "plt.hist(genderiat['implicit'], bins = 20) "
   ]
  },
  {
   "cell_type": "markdown",
   "metadata": {},
   "source": [
    "#### And then a quick view of the variables we have:"
   ]
  },
  {
   "cell_type": "code",
   "execution_count": 7,
   "metadata": {},
   "outputs": [
    {
     "data": {
      "text/html": [
       "<div>\n",
       "<style scoped>\n",
       "    .dataframe tbody tr th:only-of-type {\n",
       "        vertical-align: middle;\n",
       "    }\n",
       "\n",
       "    .dataframe tbody tr th {\n",
       "        vertical-align: top;\n",
       "    }\n",
       "\n",
       "    .dataframe thead th {\n",
       "        text-align: right;\n",
       "    }\n",
       "</style>\n",
       "<table border=\"1\" class=\"dataframe\">\n",
       "  <thead>\n",
       "    <tr style=\"text-align: right;\">\n",
       "      <th></th>\n",
       "      <th>implicit</th>\n",
       "      <th>explicit</th>\n",
       "      <th>raceomb</th>\n",
       "      <th>sex</th>\n",
       "      <th>politics</th>\n",
       "      <th>year</th>\n",
       "      <th>age</th>\n",
       "      <th>education</th>\n",
       "      <th>participant_number</th>\n",
       "    </tr>\n",
       "  </thead>\n",
       "  <tbody>\n",
       "    <tr>\n",
       "      <th>0</th>\n",
       "      <td>1.013018</td>\n",
       "      <td>4.5</td>\n",
       "      <td>6.0</td>\n",
       "      <td>f</td>\n",
       "      <td>3.0</td>\n",
       "      <td>2012</td>\n",
       "      <td>21.0</td>\n",
       "      <td>6.0</td>\n",
       "      <td>1</td>\n",
       "    </tr>\n",
       "    <tr>\n",
       "      <th>1</th>\n",
       "      <td>0.438193</td>\n",
       "      <td>5.0</td>\n",
       "      <td>6.0</td>\n",
       "      <td>f</td>\n",
       "      <td>4.0</td>\n",
       "      <td>2010</td>\n",
       "      <td>17.0</td>\n",
       "      <td>3.0</td>\n",
       "      <td>2</td>\n",
       "    </tr>\n",
       "    <tr>\n",
       "      <th>2</th>\n",
       "      <td>-0.015030</td>\n",
       "      <td>4.0</td>\n",
       "      <td>6.0</td>\n",
       "      <td>f</td>\n",
       "      <td>4.0</td>\n",
       "      <td>2013</td>\n",
       "      <td>25.0</td>\n",
       "      <td>7.0</td>\n",
       "      <td>4</td>\n",
       "    </tr>\n",
       "    <tr>\n",
       "      <th>3</th>\n",
       "      <td>0.425197</td>\n",
       "      <td>4.5</td>\n",
       "      <td>6.0</td>\n",
       "      <td>m</td>\n",
       "      <td>2.0</td>\n",
       "      <td>2007</td>\n",
       "      <td>23.0</td>\n",
       "      <td>8.0</td>\n",
       "      <td>6</td>\n",
       "    </tr>\n",
       "    <tr>\n",
       "      <th>4</th>\n",
       "      <td>0.719349</td>\n",
       "      <td>4.0</td>\n",
       "      <td>3.0</td>\n",
       "      <td>f</td>\n",
       "      <td>4.0</td>\n",
       "      <td>2015</td>\n",
       "      <td>18.0</td>\n",
       "      <td>5.0</td>\n",
       "      <td>7</td>\n",
       "    </tr>\n",
       "  </tbody>\n",
       "</table>\n",
       "</div>"
      ],
      "text/plain": [
       "   implicit  explicit  raceomb sex  politics  year   age  education  \\\n",
       "0  1.013018       4.5      6.0   f       3.0  2012  21.0        6.0   \n",
       "1  0.438193       5.0      6.0   f       4.0  2010  17.0        3.0   \n",
       "2 -0.015030       4.0      6.0   f       4.0  2013  25.0        7.0   \n",
       "3  0.425197       4.5      6.0   m       2.0  2007  23.0        8.0   \n",
       "4  0.719349       4.0      3.0   f       4.0  2015  18.0        5.0   \n",
       "\n",
       "   participant_number  \n",
       "0                   1  \n",
       "1                   2  \n",
       "2                   4  \n",
       "3                   6  \n",
       "4                   7  "
      ]
     },
     "execution_count": 7,
     "metadata": {},
     "output_type": "execute_result"
    }
   ],
   "source": [
    "genderiat.head()"
   ]
  },
  {
   "cell_type": "markdown",
   "metadata": {},
   "source": [
    "# Visualize by year"
   ]
  },
  {
   "cell_type": "markdown",
   "metadata": {},
   "source": [
    "#### First, let's look at a list of the average IAT scores for each year."
   ]
  },
  {
   "cell_type": "code",
   "execution_count": 9,
   "metadata": {
    "scrolled": false
   },
   "outputs": [
    {
     "name": "stdout",
     "output_type": "stream",
     "text": [
      "year\n",
      "2007    0.394552\n",
      "2008    0.360427\n",
      "2009    0.360888\n",
      "2010    0.373369\n",
      "2011    0.344624\n",
      "2012    0.360623\n",
      "2013    0.328445\n",
      "2014    0.312847\n",
      "2015    0.308335\n",
      "Name: implicit, dtype: float64\n"
     ]
    }
   ],
   "source": [
    "print(genderiat.groupby('year')['implicit'].mean())"
   ]
  },
  {
   "cell_type": "markdown",
   "metadata": {},
   "source": [
    "#### Now let's visualize those average IAT scores by year."
   ]
  },
  {
   "cell_type": "code",
   "execution_count": 10,
   "metadata": {},
   "outputs": [
    {
     "data": {
      "text/plain": [
       "Text(0,0.5,'Association of male with science')"
      ]
     },
     "execution_count": 10,
     "metadata": {},
     "output_type": "execute_result"
    },
    {
     "data": {
      "image/png": "[encoded data removed]",
      "text/plain": [
       "<matplotlib.figure.Figure at 0x1058e3898>"
      ]
     },
     "metadata": {},
     "output_type": "display_data"
    }
   ],
   "source": [
    "# plot yearwise iat scores averages by year\n",
    "plt.plot([2007, 2008, 2009, 2010, 2011, 2012, 2013, 2014, 2015], genderiat.groupby('year')['implicit'].mean())\n",
    "plt.xlabel('Year')\n",
    "plt.ylabel('Association of male with science')"
   ]
  },
  {
   "cell_type": "markdown",
   "metadata": {},
   "source": [
    "#### It looks like implicit stereotypes linking \"male\" to \"science\" more strongly than \"female\" to \"science\" may be on the decline."
   ]
  },
  {
   "cell_type": "markdown",
   "metadata": {},
   "source": [
    "# Visualize within most recent year"
   ]
  },
  {
   "cell_type": "markdown",
   "metadata": {},
   "source": [
    "## A. IAT scores by gender in 2015\n",
    "#### Participants had the option of reporting their gender as \"female\" or as \"male\"."
   ]
  },
  {
   "cell_type": "markdown",
   "metadata": {},
   "source": [
    "#### Let's create a dataframe with only data from 2015. This leaves us with about 1500 rows, probably providing plenty of power to do significance testing in Item 3."
   ]
  },
  {
   "cell_type": "code",
   "execution_count": 11,
   "metadata": {},
   "outputs": [
    {
     "data": {
      "text/plain": [
       "1472"
      ]
     },
     "execution_count": 11,
     "metadata": {},
     "output_type": "execute_result"
    }
   ],
   "source": [
    "genderiat2015 = genderiat[genderiat.year == 2015]\n",
    "len(genderiat2015)"
   ]
  },
  {
   "cell_type": "markdown",
   "metadata": {},
   "source": [
    "#### Now let's visualize IAT scores by gender!"
   ]
  },
  {
   "cell_type": "code",
   "execution_count": 12,
   "metadata": {},
   "outputs": [
    {
     "name": "stderr",
     "output_type": "stream",
     "text": [
      "/Users/lizredford/anaconda3/lib/python3.6/site-packages/scipy/stats/stats.py:1706: FutureWarning: Using a non-tuple sequence for multidimensional indexing is deprecated; use `arr[tuple(seq)]` instead of `arr[seq]`. In the future this will be interpreted as an array index, `arr[np.array(seq)]`, which will result either in an error or a different result.\n",
      "  return np.add.reduce(sorted[indexer] * weights, axis=axis) / sumval\n"
     ]
    },
    {
     "data": {
      "image/png": "[encoded data removed]",
      "text/plain": [
       "<matplotlib.figure.Figure at 0x104bd8f98>"
      ]
     },
     "metadata": {},
     "output_type": "display_data"
    }
   ],
   "source": [
    "# Make barplot\n",
    "import seaborn as sns\n",
    "sns.barplot(x='sex', y='implicit', data=genderiat2015)\n",
    "plt.ylim(0, 1.5)\n",
    "plt.xlabel('Participant gender', fontsize=16)\n",
    "plt.ylabel('IAT score', fontsize=16)\n",
    "\n",
    "# Make some labelsb\n",
    "barlabels = genderiat2015.groupby('sex')['implicit'].mean() # make list of values with which to label bars\n",
    "values = round(barlabels, 2) # round the values\n",
    "\n",
    "labels = [str(i) for i in values]\n",
    "\n",
    "for x, y, label in zip(range(len(values)), values, labels):\n",
    "    plt.text(x, y + .1, label, ha='center', va='bottom')"
   ]
  },
  {
   "cell_type": "markdown",
   "metadata": {},
   "source": [
    "#### Looks like men may have stronger associations of \"male\" with \"science\" than women do.\n",
    "You'll notice I allowed the y-axis to range from 0 to 1.5; I believe this is a better representation of the differences than \"zooming in\" by having the y-axis range from, say, 0 to .5. "
   ]
  },
  {
   "cell_type": "markdown",
   "metadata": {},
   "source": [
    "## B. IAT scores by political ideology in 2015\n",
    "#### Political ideology is measured on a scale of 1 - 7 with 1 being most conservative and 7 being most liberal. So to make things easy, let's call it a measure of participant liberalism from now on."
   ]
  },
  {
   "cell_type": "code",
   "execution_count": 13,
   "metadata": {
    "scrolled": false
   },
   "outputs": [
    {
     "data": {
      "text/plain": [
       "4.0    401\n",
       "6.0    390\n",
       "7.0    277\n",
       "5.0    160\n",
       "2.0    106\n",
       "3.0    104\n",
       "1.0     34\n",
       "Name: politics, dtype: int64"
      ]
     },
     "execution_count": 13,
     "metadata": {},
     "output_type": "execute_result"
    }
   ],
   "source": [
    "# Check for missing or strange values\n",
    "genderiat2015['politics'].value_counts()"
   ]
  },
  {
   "cell_type": "markdown",
   "metadata": {},
   "source": [
    "#### Let's visualize IAT scores by political ideology! For easy comparison to our gender visualization, let's start with a barplot."
   ]
  },
  {
   "cell_type": "code",
   "execution_count": 14,
   "metadata": {},
   "outputs": [
    {
     "name": "stderr",
     "output_type": "stream",
     "text": [
      "/Users/lizredford/anaconda3/lib/python3.6/site-packages/scipy/stats/stats.py:1706: FutureWarning: Using a non-tuple sequence for multidimensional indexing is deprecated; use `arr[tuple(seq)]` instead of `arr[seq]`. In the future this will be interpreted as an array index, `arr[np.array(seq)]`, which will result either in an error or a different result.\n",
      "  return np.add.reduce(sorted[indexer] * weights, axis=axis) / sumval\n"
     ]
    },
    {
     "data": {
      "image/png": "[encoded data removed]",
      "text/plain": [
       "<matplotlib.figure.Figure at 0x1c134644e0>"
      ]
     },
     "metadata": {},
     "output_type": "display_data"
    }
   ],
   "source": [
    "# Make barplot\n",
    "import seaborn as sns\n",
    "sns.barplot(x='politics', y='implicit', data=genderiat2015)\n",
    "plt.ylim(0, 1.5)\n",
    "plt.xlabel('Participant liberalism', fontsize=16)\n",
    "plt.ylabel('IAT score', fontsize=16)\n",
    "\n",
    "# Make some labelsb\n",
    "barlabels = genderiat2015.groupby('politics')['implicit'].mean() # make list of values with which to label bars\n",
    "values = round(barlabels, 2) # round the values\n",
    "\n",
    "labels = [str(i) for i in values]\n",
    "\n",
    "for x, y, label in zip(range(len(values)), values, labels):\n",
    "    plt.text(x, y + .1, label, ha='center', va='bottom')"
   ]
  },
  {
   "cell_type": "markdown",
   "metadata": {},
   "source": [
    "#### Because political ideology is somewhat continuous, let's also check out a regression plot."
   ]
  },
  {
   "cell_type": "code",
   "execution_count": 15,
   "metadata": {
    "scrolled": true
   },
   "outputs": [
    {
     "name": "stderr",
     "output_type": "stream",
     "text": [
      "/Users/lizredford/anaconda3/lib/python3.6/site-packages/scipy/stats/stats.py:1706: FutureWarning: Using a non-tuple sequence for multidimensional indexing is deprecated; use `arr[tuple(seq)]` instead of `arr[seq]`. In the future this will be interpreted as an array index, `arr[np.array(seq)]`, which will result either in an error or a different result.\n",
      "  return np.add.reduce(sorted[indexer] * weights, axis=axis) / sumval\n"
     ]
    },
    {
     "data": {
      "text/plain": [
       "<seaborn.axisgrid.FacetGrid at 0x1c13270748>"
      ]
     },
     "execution_count": 15,
     "metadata": {},
     "output_type": "execute_result"
    },
    {
     "data": {
      "image/png": "[encoded data removed]",
      "text/plain": [
       "<matplotlib.figure.Figure at 0x105903400>"
      ]
     },
     "metadata": {},
     "output_type": "display_data"
    }
   ],
   "source": [
    "sns.lmplot(x='politics', y='implicit', order=2, data=genderiat2015) "
   ]
  },
  {
   "cell_type": "markdown",
   "metadata": {},
   "source": [
    "#### In the barplot, it looked like more liberal people may have weaker associations of \"male\" with \"science\" than more conservative people do, but here in the regression plot, the regression line looks flat. "
   ]
  },
  {
   "cell_type": "markdown",
   "metadata": {},
   "source": [
    "# Significance testing"
   ]
  },
  {
   "cell_type": "markdown",
   "metadata": {},
   "source": [
    "## Are differences by gender significant?\n",
    "#### We can answer this question with a independent t-test comparing IAT scores of females to males. \n",
    "Other methods you could use here would be ANOVA or regression with dummy coding."
   ]
  },
  {
   "cell_type": "code",
   "execution_count": 17,
   "metadata": {},
   "outputs": [
    {
     "name": "stdout",
     "output_type": "stream",
     "text": [
      "t =  -4.24\n",
      "p =  0.0\n",
      "Mean IAT scores by gender:\n",
      "sex\n",
      "f    0.276941\n",
      "m    0.371638\n",
      "Name: implicit, dtype: float64\n"
     ]
    }
   ],
   "source": [
    "import scipy\n",
    "females = genderiat2015[genderiat2015['sex'] == 'f'].groupby('participant_number').mean()\n",
    "males = genderiat2015[genderiat2015['sex'] == 'm'].groupby('participant_number').mean()\n",
    "t,p = scipy.stats.ttest_ind(females['implicit'], males['implicit'])\n",
    "print(\"t = \", round(t, 2))\n",
    "print(\"p = \", round(p, 4))\n",
    "\n",
    "# Print mean IAT scores by gender\n",
    "print(\"Mean IAT scores by gender:\")\n",
    "print(genderiat2015.groupby('sex')['implicit'].mean())"
   ]
  },
  {
   "cell_type": "markdown",
   "metadata": {},
   "source": [
    "#### There's a significant effect of gender on IAT scores; men have a stronger mental association between \"male\" and \"science\" than women do."
   ]
  },
  {
   "cell_type": "markdown",
   "metadata": {},
   "source": [
    "## Are differences by political ideology significant?\n",
    "\n",
    "#### If we treat political ideology as continuous, which is standard in the academic literature in this area, we can answer this question with a correlation coefficient and its significance level. "
   ]
  },
  {
   "cell_type": "code",
   "execution_count": 18,
   "metadata": {},
   "outputs": [
    {
     "name": "stdout",
     "output_type": "stream",
     "text": [
      "-0.04 0\n",
      "r =  -0.04\n",
      "p =  0.1592\n"
     ]
    }
   ],
   "source": [
    "r,p = scipy.stats.pearsonr(genderiat2015['politics'], genderiat2015['implicit'])\n",
    "print(round(r, 2), round(int(p)))\n",
    "print(\"r = \", round(r, 2))\n",
    "print(\"p = \", round(p, 4))"
   ]
  },
  {
   "cell_type": "markdown",
   "metadata": {},
   "source": [
    "#### There is not a significant relationship between political ideology and IAT scores."
   ]
  },
  {
   "cell_type": "markdown",
   "metadata": {},
   "source": [
    "# Prediction"
   ]
  },
  {
   "cell_type": "markdown",
   "metadata": {},
   "source": [
    "## Model building process"
   ]
  },
  {
   "cell_type": "markdown",
   "metadata": {},
   "source": [
    "Because our outcome (IAT scores) is continuous, I chose to use linear regression to model the data.\n",
    "\n",
    "To build the model, I selected features by checking for simple relationships of all variables to IAT scores. We already know that gender predicts IAT scores and political ideology does not, so let's look at the other variables: race, year, age, and education level."
   ]
  },
  {
   "cell_type": "markdown",
   "metadata": {},
   "source": [
    "#### Gender in this dataset"
   ]
  },
  {
   "cell_type": "markdown",
   "metadata": {},
   "source": [
    "I'm going to choose not to include participant gender in the predictive model. That would require dummy-coding the variable, appending dummy codes to the dataset, and making sure those codes are not subjected to the scaling we do later."
   ]
  },
  {
   "cell_type": "markdown",
   "metadata": {},
   "source": [
    "#### Race in this dataset"
   ]
  },
  {
   "cell_type": "markdown",
   "metadata": {},
   "source": [
    "I'm also going to choose not to include participant race here. It's measured in 9 distinct categories, and those group sizes are very unequal, as you can see below. This will result in biased parameter estimates. Moreover, to decompose the effect we'd have to do many pairwise comparisons, which may increase our false positive rate. "
   ]
  },
  {
   "cell_type": "code",
   "execution_count": 19,
   "metadata": {},
   "outputs": [
    {
     "data": {
      "text/plain": [
       "6.0    5600\n",
       "5.0     344\n",
       "8.0     332\n",
       "2.0     312\n",
       "9.0     301\n",
       "3.0     253\n",
       "7.0      66\n",
       "1.0      56\n",
       "4.0      32\n",
       "Name: raceomb, dtype: int64"
      ]
     },
     "execution_count": 19,
     "metadata": {},
     "output_type": "execute_result"
    }
   ],
   "source": [
    "genderiat['raceomb'].value_counts()"
   ]
  },
  {
   "cell_type": "markdown",
   "metadata": {},
   "source": [
    "#### Explicit (self-reported) male--science associations predict IAT scores"
   ]
  },
  {
   "cell_type": "code",
   "execution_count": 20,
   "metadata": {},
   "outputs": [
    {
     "name": "stdout",
     "output_type": "stream",
     "text": [
      "r =  0.22\n",
      "p =  0.0\n"
     ]
    }
   ],
   "source": [
    "r,p = scipy.stats.pearsonr(genderiat['explicit'], genderiat['implicit'])\n",
    "print(\"r = \", round(r, 2))\n",
    "print(\"p = \", round(p, 4))"
   ]
  },
  {
   "cell_type": "markdown",
   "metadata": {},
   "source": [
    " #### Age predicts IAT scores"
   ]
  },
  {
   "cell_type": "code",
   "execution_count": 21,
   "metadata": {},
   "outputs": [
    {
     "name": "stdout",
     "output_type": "stream",
     "text": [
      "r =  0.05\n",
      "p =  0.0\n"
     ]
    }
   ],
   "source": [
    "r,p = scipy.stats.pearsonr(genderiat['age'], genderiat['implicit'])\n",
    "print(\"r = \", round(r, 2))\n",
    "print(\"p = \", round(p, 4))"
   ]
  },
  {
   "cell_type": "markdown",
   "metadata": {},
   "source": [
    "#### Education level does not predict IAT scores"
   ]
  },
  {
   "cell_type": "code",
   "execution_count": 22,
   "metadata": {},
   "outputs": [
    {
     "name": "stdout",
     "output_type": "stream",
     "text": [
      "r =  -0.01\n",
      "p =  0.3188\n"
     ]
    }
   ],
   "source": [
    "r,p = scipy.stats.pearsonr(genderiat['education'], genderiat['implicit'])\n",
    "print(\"r = \", round(r, 2))\n",
    "print(\"p = \", round(p, 4))"
   ]
  },
  {
   "cell_type": "markdown",
   "metadata": {},
   "source": [
    "#### Year predicts IAT scores\n",
    "Let's stop for a second to acknowledge that we're not correcting for temporal autocorrelation here, which is something we could consider with more time. But at least according to this simple correlation, year might have something to do with IAT scores."
   ]
  },
  {
   "cell_type": "code",
   "execution_count": 23,
   "metadata": {},
   "outputs": [
    {
     "name": "stdout",
     "output_type": "stream",
     "text": [
      "r =  -0.06\n",
      "p =  0.0\n"
     ]
    }
   ],
   "source": [
    "r,p = scipy.stats.pearsonr(genderiat['year'], genderiat['implicit'])\n",
    "print(\"r = \", round(r, 2))\n",
    "print(\"p = \", round(p, 4))"
   ]
  },
  {
   "cell_type": "markdown",
   "metadata": {},
   "source": [
    "#### So now we know our features that significantly predict IAT scores in isolation: explicit (self-reported) male--science associations, age, and year. Let's combine them into a group of X variables.\n",
    "\n",
    "We could consider other ways could incorporate these variables, such as including polynomial terms, or interactions between these variables. However, the more terms we add, the more we risk overfitting. At this point, let's keep it simple and just look at the linear coefficient for each variable."
   ]
  },
  {
   "cell_type": "code",
   "execution_count": 24,
   "metadata": {},
   "outputs": [],
   "source": [
    "# Select prediction target and call it y\n",
    "y = genderiat['implicit']\n",
    "\n",
    "# Choose features/predictors\n",
    "X = genderiat[['explicit', 'year', 'age']]"
   ]
  },
  {
   "cell_type": "markdown",
   "metadata": {},
   "source": [
    "\n",
    "#### Now we can split our data into training and validation sets.\n"
   ]
  },
  {
   "cell_type": "code",
   "execution_count": 25,
   "metadata": {},
   "outputs": [],
   "source": [
    "import sklearn\n",
    "from sklearn.tree import DecisionTreeRegressor\n",
    "from sklearn.model_selection import train_test_split\n",
    "\n",
    "# split data into training and validation data, for both features and target\n",
    "# Supplying a numeric value to the random_state argument guarantees we get the same split every time we\n",
    "# run this script.\n",
    "train_X, valdtn_X, train_y, valdtn_y = train_test_split(X, y, random_state = 0)"
   ]
  },
  {
   "cell_type": "markdown",
   "metadata": {},
   "source": [
    "#### Inspect the size of the training and validation sets to ensure they are as expected."
   ]
  },
  {
   "cell_type": "code",
   "execution_count": 26,
   "metadata": {},
   "outputs": [
    {
     "name": "stdout",
     "output_type": "stream",
     "text": [
      "5472 1824\n"
     ]
    }
   ],
   "source": [
    "print(len(train_X), len(valdtn_y))"
   ]
  },
  {
   "cell_type": "code",
   "execution_count": null,
   "metadata": {},
   "outputs": [],
   "source": [
    "# Notes on scaling\n",
    "# With more time, I'd scale all predictor variables so that discrepancies in means and ranges don't \n",
    "# have undue influence on the model. However, when I used this method, my predicted values were very unusual.\n",
    "# To better stay in the time allotted, I'll acknowledge that scaling would be the surperior approach, but\n",
    "# move on without doing so, noting that to do so I'd use code similar to this:\n",
    "# from sklearn import preprocessing\n",
    "# train_X_scaled = preprocessing.scale(train_X)"
   ]
  },
  {
   "cell_type": "markdown",
   "metadata": {},
   "source": [
    "#### Run regression model"
   ]
  },
  {
   "cell_type": "code",
   "execution_count": 27,
   "metadata": {},
   "outputs": [
    {
     "data": {
      "text/plain": [
       "LinearRegression(copy_X=True, fit_intercept=True, n_jobs=1, normalize=False)"
      ]
     },
     "execution_count": 27,
     "metadata": {},
     "output_type": "execute_result"
    }
   ],
   "source": [
    "from sklearn import datasets, linear_model\n",
    "\n",
    "# Create linear regression object\n",
    "regr = linear_model.LinearRegression()\n",
    "\n",
    "# Train the model using the training set\n",
    "regr.fit(train_X, train_y)"
   ]
  },
  {
   "cell_type": "code",
   "execution_count": 28,
   "metadata": {
    "scrolled": true
   },
   "outputs": [
    {
     "name": "stdout",
     "output_type": "stream",
     "text": [
      "[0.33960451 0.42558766 0.40284849 ... 0.23120933 0.36585899 0.37117628]\n"
     ]
    }
   ],
   "source": [
    "# Make and view predictions using the testing set\n",
    "regr_pred = regr.predict(valdtn_X)\n",
    "print(regr_pred)"
   ]
  },
  {
   "cell_type": "markdown",
   "metadata": {},
   "source": [
    "#### Evaluate the model"
   ]
  },
  {
   "cell_type": "markdown",
   "metadata": {},
   "source": [
    "#### The mean squared error is .15. \n",
    "This indicates that on average our estimates deviated from actual scores by about .39. The average IAT score is about .35, so an average error of .39 is quite a lot."
   ]
  },
  {
   "cell_type": "code",
   "execution_count": 29,
   "metadata": {},
   "outputs": [
    {
     "name": "stdout",
     "output_type": "stream",
     "text": [
      "Mean squared error: 0.15\n"
     ]
    },
    {
     "data": {
      "text/plain": [
       "0.38639008110291195"
      ]
     },
     "execution_count": 29,
     "metadata": {},
     "output_type": "execute_result"
    }
   ],
   "source": [
    "# The mean squared error\n",
    "from sklearn.metrics import mean_squared_error, r2_score\n",
    "print(\"Mean squared error: %.2f\"\n",
    "      % mean_squared_error(valdtn_y, regr_pred))\n",
    "import math\n",
    "math.sqrt(mean_squared_error(valdtn_y, regr_pred))"
   ]
  },
  {
   "cell_type": "markdown",
   "metadata": {},
   "source": [
    "#### The variance score is .06.\n",
    "This is quite low, which indicates relatively poor performance. We'll see this echoed below where we get to see the R squared for our model."
   ]
  },
  {
   "cell_type": "code",
   "execution_count": 30,
   "metadata": {},
   "outputs": [
    {
     "name": "stdout",
     "output_type": "stream",
     "text": [
      "Variance score: 0.06\n"
     ]
    }
   ],
   "source": [
    "# Explained variance score: 1 is perfect prediction\n",
    "print('Variance score: %.2f' % r2_score(valdtn_y, regr_pred))"
   ]
  },
  {
   "cell_type": "markdown",
   "metadata": {},
   "source": [
    "## Important variables"
   ]
  },
  {
   "cell_type": "markdown",
   "metadata": {},
   "source": [
    "Let's start by asking for the coefficients for 'explicit', 'year', and 'age'."
   ]
  },
  {
   "cell_type": "code",
   "execution_count": 32,
   "metadata": {
    "scrolled": true
   },
   "outputs": [
    {
     "name": "stdout",
     "output_type": "stream",
     "text": [
      "Coefficients: \n",
      " [ 0.10154323 -0.00757706  0.00137199]\n"
     ]
    }
   ],
   "source": [
    "print('Coefficients: \\n', regr.coef_)"
   ]
  },
  {
   "cell_type": "markdown",
   "metadata": {},
   "source": [
    "#### Ok, so Sklearn will give us coefficients, but it doesn't actually give us a lot of the information we need to assess each predictor. \n",
    "\n",
    "What are their confidence intervals and significance levels? What proportion of the variance does the model actually predict? Sklearn is great for predicting, but to answer these important questions, let's run an OLS regression on the training set and inspect the wealth of information it provides."
   ]
  },
  {
   "cell_type": "code",
   "execution_count": 34,
   "metadata": {},
   "outputs": [
    {
     "name": "stdout",
     "output_type": "stream",
     "text": [
      "                            OLS Regression Results                            \n",
      "==============================================================================\n",
      "Dep. Variable:               implicit   R-squared:                       0.052\n",
      "Model:                            OLS   Adj. R-squared:                  0.052\n",
      "Method:                 Least Squares   F-statistic:                     100.7\n",
      "Date:                Mon, 24 Sep 2018   Prob (F-statistic):           1.89e-63\n",
      "Time:                        17:42:33   Log-Likelihood:                -2640.9\n",
      "No. Observations:                5472   AIC:                             5290.\n",
      "Df Residuals:                    5468   BIC:                             5316.\n",
      "Df Model:                           3                                         \n",
      "Covariance Type:            nonrobust                                         \n",
      "==============================================================================\n",
      "                 coef    std err          t      P>|t|      [0.025      0.975]\n",
      "------------------------------------------------------------------------------\n",
      "const         15.0558      3.974      3.789      0.000       7.265      22.846\n",
      "explicit       0.1015      0.006     16.383      0.000       0.089       0.114\n",
      "year          -0.0076      0.002     -3.837      0.000      -0.011      -0.004\n",
      "age            0.0014      0.000      2.998      0.003       0.000       0.002\n",
      "==============================================================================\n",
      "Omnibus:                       93.612   Durbin-Watson:                   2.040\n",
      "Prob(Omnibus):                  0.000   Jarque-Bera (JB):               98.124\n",
      "Skew:                          -0.327   Prob(JB):                     4.93e-22\n",
      "Kurtosis:                       3.040   Cond. No.                     1.51e+06\n",
      "==============================================================================\n",
      "\n",
      "Warnings:\n",
      "[1] Standard Errors assume that the covariance matrix of the errors is correctly specified.\n",
      "[2] The condition number is large, 1.51e+06. This might indicate that there are\n",
      "strong multicollinearity or other numerical problems.\n"
     ]
    }
   ],
   "source": [
    "X2 = sm.add_constant(train_X)\n",
    "est = sm.OLS(train_y, X2)\n",
    "est2 = est.fit()\n",
    "print(est2.summary())"
   ]
  },
  {
   "cell_type": "markdown",
   "metadata": {},
   "source": [
    "#### How useful! Here, we can see our confidence intervals, which are pretty small, probably because of our large sample size.\n",
    "\n",
    "We see that our R2 is about .05, which is small. We're predicting less than 6% of the variance in IAT scores. Thus, although our model is statisticall significant, its applied significance may be less than we'd hope.\n",
    "\n",
    "We get also some additional diagnostics. For example, we can see that we have potentially problematic kurtosis, and maybe multicollinearity problems. With more time, I'd investigate and correct for these issues. But for the sake of time, let's just move forward assuming there are actually no issues with multicollinearity, kurtosis, etc.\n",
    "In this case, we accept this model. Let's move on to assessing importance of variables.\n"
   ]
  },
  {
   "cell_type": "markdown",
   "metadata": {},
   "source": [
    "#### Summary: most important variable(s) in predicting IAT scores"
   ]
  },
  {
   "cell_type": "markdown",
   "metadata": {},
   "source": [
    "The regression output shows that \"x1\", or explicit (self-reported) associations of \"male\" with \"science\", has the highest coefficient. To assert actual statistically significant differences in coefficient size, we'd have to test the equality of each pair of coefficients independently. As a quick and dirty approach to that, let's note that explicit/x1's confidence interval does not include the confidence intervals of the other variables, which are lower. I'm sure there are more advanced metrics of this, but think that's beyond the scope of this task. For now, let's go ahead and say explicit associations are most important for predicting implicit association test scores.\n",
    "\n",
    "Of course, variable importance depends a lot on the context of the data. For example, if a manipulated variable (e.g., teacher exposure to ANet coaching or assessment strategies) has a lower coefficient than a measured one (e.g., demographics of student body), it may still be more practically important because it's something we can actually influence.\n"
   ]
  },
  {
   "cell_type": "markdown",
   "metadata": {},
   "source": [
    "# Executive Summary"
   ]
  },
  {
   "cell_type": "markdown",
   "metadata": {},
   "source": [
    "We looked at data involcing the Gender-Science Implicit Association Test (IAT), a psychological measure of how quickly people can pair the concepts of female versus male with words representing sciences versus liberal arts. The data included 8,000 people who took the Gender-Science IAT, including their scores, their own demographic information, and the year in which their data was recorded.\n",
    "\n",
    "### Visualize by year\n",
    "It looked like implicit stereotypes linking \"male\" to \"science\" more strongly than \"female\" to \"science\" may be on the decline.\n",
    "\n",
    "### Visualize within most recent year\n",
    "\n",
    "#### By gender\n",
    "It looked like men may have stronger associations of \"male\" with \"science\" than women do.\n",
    "\n",
    "#### By political ideology\n",
    "In the barplot, it looked like more liberal people may have weaker associations of \"male\" with \"science\" than more conservative people do, but in the regression plot, the regression line looked flat.\n",
    "\n",
    "### Significance testing\n",
    "There was a significant effect of gender on IAT scores; men have a stronger mental association between \"men\" and \"science\" than women do.\n",
    "\n",
    "There was not a significant effect of political ideology on IAT scores.\n",
    "\n",
    "### Prediction\n",
    "Linear regression was the appropriate algorithm gien that IAT scores are continuous. I selected features by checking for simple relationships of all variables to IAT scores, choosing these predictors: explicit (self-reported) male--science associations, age, and year.\n",
    "\n",
    "The model performed poorly, predicting only 5% of the variance in IAT scores. Further, on average predictions deviated from actual scores by about .39, where the mean IAT score is only .35.\n",
    "\n",
    "The regression output showed that \"x1\", or explicit (self-reported) associations of \"male\" with \"science\", had the highest coefficient, but I discussed other nuances in choosing important variables."
   ]
  },
  {
   "cell_type": "code",
   "execution_count": null,
   "metadata": {},
   "outputs": [],
   "source": []
  }
 ],
 "metadata": {
  "kernelspec": {
   "display_name": "Python 3",
   "language": "python",
   "name": "python3"
  },
  "language_info": {
   "codemirror_mode": {
    "name": "ipython",
    "version": 3
   },
   "file_extension": ".py",
   "mimetype": "text/x-python",
   "name": "python",
   "nbconvert_exporter": "python",
   "pygments_lexer": "ipython3",
   "version": "3.6.4"
  }
 },
 "nbformat": 4,
 "nbformat_minor": 2
}
