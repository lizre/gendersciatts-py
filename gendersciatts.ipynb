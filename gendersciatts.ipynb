{
 "cells": [
  {
   "cell_type": "markdown",
   "metadata": {},
   "source": [
    "# Import and subset Gender-Science IAT data"
   ]
  },
  {
   "cell_type": "code",
   "execution_count": 31,
   "metadata": {},
   "outputs": [
    {
     "data": {
      "text/html": [
       "<div>\n",
       "<style scoped>\n",
       "    .dataframe tbody tr th:only-of-type {\n",
       "        vertical-align: middle;\n",
       "    }\n",
       "\n",
       "    .dataframe tbody tr th {\n",
       "        vertical-align: top;\n",
       "    }\n",
       "\n",
       "    .dataframe thead th {\n",
       "        text-align: right;\n",
       "    }\n",
       "</style>\n",
       "<table border=\"1\" class=\"dataframe\">\n",
       "  <thead>\n",
       "    <tr style=\"text-align: right;\">\n",
       "      <th></th>\n",
       "      <th>implicit</th>\n",
       "      <th>explicit</th>\n",
       "      <th>raceomb</th>\n",
       "      <th>politics</th>\n",
       "      <th>year</th>\n",
       "      <th>age</th>\n",
       "      <th>education</th>\n",
       "    </tr>\n",
       "  </thead>\n",
       "  <tbody>\n",
       "    <tr>\n",
       "      <th>count</th>\n",
       "      <td>8000.000000</td>\n",
       "      <td>8000.000000</td>\n",
       "      <td>7635.000000</td>\n",
       "      <td>7551.000000</td>\n",
       "      <td>8000.000000</td>\n",
       "      <td>7690.000000</td>\n",
       "      <td>7612.000000</td>\n",
       "    </tr>\n",
       "    <tr>\n",
       "      <th>mean</th>\n",
       "      <td>0.342257</td>\n",
       "      <td>4.807500</td>\n",
       "      <td>5.850950</td>\n",
       "      <td>4.704940</td>\n",
       "      <td>2011.599375</td>\n",
       "      <td>27.307802</td>\n",
       "      <td>6.189175</td>\n",
       "    </tr>\n",
       "    <tr>\n",
       "      <th>std</th>\n",
       "      <td>0.400191</td>\n",
       "      <td>0.860072</td>\n",
       "      <td>1.343845</td>\n",
       "      <td>1.626299</td>\n",
       "      <td>2.690219</td>\n",
       "      <td>11.650358</td>\n",
       "      <td>2.118038</td>\n",
       "    </tr>\n",
       "    <tr>\n",
       "      <th>min</th>\n",
       "      <td>-1.788986</td>\n",
       "      <td>1.000000</td>\n",
       "      <td>1.000000</td>\n",
       "      <td>1.000000</td>\n",
       "      <td>2007.000000</td>\n",
       "      <td>7.000000</td>\n",
       "      <td>1.000000</td>\n",
       "    </tr>\n",
       "    <tr>\n",
       "      <th>25%</th>\n",
       "      <td>0.077417</td>\n",
       "      <td>4.000000</td>\n",
       "      <td>6.000000</td>\n",
       "      <td>4.000000</td>\n",
       "      <td>2009.000000</td>\n",
       "      <td>19.000000</td>\n",
       "      <td>5.000000</td>\n",
       "    </tr>\n",
       "    <tr>\n",
       "      <th>50%</th>\n",
       "      <td>0.369378</td>\n",
       "      <td>4.500000</td>\n",
       "      <td>6.000000</td>\n",
       "      <td>5.000000</td>\n",
       "      <td>2012.000000</td>\n",
       "      <td>23.000000</td>\n",
       "      <td>6.000000</td>\n",
       "    </tr>\n",
       "    <tr>\n",
       "      <th>75%</th>\n",
       "      <td>0.632541</td>\n",
       "      <td>5.500000</td>\n",
       "      <td>6.000000</td>\n",
       "      <td>6.000000</td>\n",
       "      <td>2014.000000</td>\n",
       "      <td>32.000000</td>\n",
       "      <td>8.000000</td>\n",
       "    </tr>\n",
       "    <tr>\n",
       "      <th>max</th>\n",
       "      <td>1.518473</td>\n",
       "      <td>7.000000</td>\n",
       "      <td>9.000000</td>\n",
       "      <td>7.000000</td>\n",
       "      <td>2015.000000</td>\n",
       "      <td>80.000000</td>\n",
       "      <td>10.000000</td>\n",
       "    </tr>\n",
       "  </tbody>\n",
       "</table>\n",
       "</div>"
      ],
      "text/plain": [
       "          implicit     explicit      raceomb     politics         year  \\\n",
       "count  8000.000000  8000.000000  7635.000000  7551.000000  8000.000000   \n",
       "mean      0.342257     4.807500     5.850950     4.704940  2011.599375   \n",
       "std       0.400191     0.860072     1.343845     1.626299     2.690219   \n",
       "min      -1.788986     1.000000     1.000000     1.000000  2007.000000   \n",
       "25%       0.077417     4.000000     6.000000     4.000000  2009.000000   \n",
       "50%       0.369378     4.500000     6.000000     5.000000  2012.000000   \n",
       "75%       0.632541     5.500000     6.000000     6.000000  2014.000000   \n",
       "max       1.518473     7.000000     9.000000     7.000000  2015.000000   \n",
       "\n",
       "               age    education  \n",
       "count  7690.000000  7612.000000  \n",
       "mean     27.307802     6.189175  \n",
       "std      11.650358     2.118038  \n",
       "min       7.000000     1.000000  \n",
       "25%      19.000000     5.000000  \n",
       "50%      23.000000     6.000000  \n",
       "75%      32.000000     8.000000  \n",
       "max      80.000000    10.000000  "
      ]
     },
     "execution_count": 31,
     "metadata": {},
     "output_type": "execute_result"
    }
   ],
   "source": [
    "import pandas \n",
    "genderiat = pandas.read_csv('gendersciiatdat.csv')"
   ]
  },
  {
   "cell_type": "markdown",
   "metadata": {},
   "source": [
    "# Plot Gender-Science IAT data"
   ]
  },
  {
   "cell_type": "code",
   "execution_count": 41,
   "metadata": {},
   "outputs": [
    {
     "data": {
      "text/plain": [
       "Text(0.5,0,'Participant age')"
      ]
     },
     "execution_count": 41,
     "metadata": {},
     "output_type": "execute_result"
    },
    {
     "data": {
      "image/png": "[encoded data removed]",
      "text/plain": [
       "<matplotlib.figure.Figure at 0x116e55780>"
      ]
     },
     "metadata": {},
     "output_type": "display_data"
    }
   ],
   "source": [
    "%matplotlib inline\n",
    "import matplotlib.pyplot as plt\n",
    "\n",
    "# Scatter iat by age\n",
    "genderiat.plot(kind='scatter', x='age', y='implicit') \n",
    "plt.ylabel('IAT Scores')\n",
    "plt.xlabel('Participant age')"
   ]
  },
  {
   "cell_type": "code",
   "execution_count": 134,
   "metadata": {},
   "outputs": [
    {
     "name": "stdout",
     "output_type": "stream",
     "text": [
      "year\n",
      "2007    0.401543\n",
      "2008    0.360631\n",
      "2009    0.358527\n",
      "2010    0.363791\n",
      "2011    0.341492\n",
      "2012    0.358293\n",
      "2013    0.324923\n",
      "2014    0.317224\n",
      "2015    0.307418\n",
      "Name: implicit, dtype: float64\n"
     ]
    },
    {
     "data": {
      "text/plain": [
       "<matplotlib.collections.PathCollection at 0x17eeceeb8>"
      ]
     },
     "execution_count": 134,
     "metadata": {},
     "output_type": "execute_result"
    },
    {
     "data": {
      "image/png": "[encoded data removed]",
      "text/plain": [
       "<matplotlib.figure.Figure at 0x177f1acc0>"
      ]
     },
     "metadata": {},
     "output_type": "display_data"
    }
   ],
   "source": [
    "print(genderiat.groupby('year')['implicit'].mean()) # get average iat score each year\n",
    "    # saved as Series of iat scores; does not save year as a column\n",
    "# plot yearwise iat scores averages by year\n",
    "plt.scatter([2007, 2008, 2009, 2010, 2011, 2012, 2013, 2014, 2015], genderiat.groupby('year')['implicit'].mean())"
   ]
  },
  {
   "cell_type": "code",
   "execution_count": 12,
   "metadata": {},
   "outputs": [
    {
     "data": {
      "text/plain": [
       "(array([1.000e+00, 4.000e+00, 2.600e+01, 1.950e+02, 7.560e+02, 1.752e+03,\n",
       "        2.537e+03, 1.998e+03, 6.740e+02, 5.700e+01]),\n",
       " array([-1.78898611, -1.45824019, -1.12749428, -0.79674836, -0.46600244,\n",
       "        -0.13525652,  0.1954894 ,  0.52623531,  0.85698123,  1.18772715,\n",
       "         1.51847307]),\n",
       " <a list of 10 Patch objects>)"
      ]
     },
     "execution_count": 12,
     "metadata": {},
     "output_type": "execute_result"
    },
    {
     "data": {
      "image/png": "[encoded data removed]",
      "text/plain": [
       "<matplotlib.figure.Figure at 0x111fb4b00>"
      ]
     },
     "metadata": {},
     "output_type": "display_data"
    }
   ],
   "source": [
    "plt.hist(genderiat['implicit'])  # histogram of IAT scores"
   ]
  },
  {
   "cell_type": "code",
   "execution_count": 20,
   "metadata": {},
   "outputs": [
    {
     "data": {
      "text/plain": [
       "f    5303\n",
       "m    2398\n",
       ".     299\n",
       "Name: sex, dtype: int64"
      ]
     },
     "execution_count": 20,
     "metadata": {},
     "output_type": "execute_result"
    }
   ],
   "source": [
    "\n"
   ]
  },
  {
   "cell_type": "code",
   "execution_count": 33,
   "metadata": {},
   "outputs": [
    {
     "data": {
      "text/plain": [
       "(0, 0.6)"
      ]
     },
     "execution_count": 33,
     "metadata": {},
     "output_type": "execute_result"
    },
    {
     "data": {
      "image/png": "[encoded data removed]",
      "text/plain": [
       "<matplotlib.figure.Figure at 0x117154d30>"
      ]
     },
     "metadata": {},
     "output_type": "display_data"
    }
   ],
   "source": [
    "# looks like some gender responses are \".\"; consider to be missing and remove\n",
    "genderiat['sex'].value_counts()\n",
    "genderiat.drop(genderiat[genderiat.sex == \".\"].index, inplace=True)\n",
    "\n",
    "# barplot of iat scores by gender\n",
    "import seaborn as sns\n",
    "sns.barplot(x='sex', y='implicit', data=genderiat)\n",
    "plt.ylim(0, .6)"
   ]
  }
 ],
 "metadata": {
  "kernelspec": {
   "display_name": "Python 3",
   "language": "python",
   "name": "python3"
  },
  "language_info": {
   "codemirror_mode": {
    "name": "ipython",
    "version": 3
   },
   "file_extension": ".py",
   "mimetype": "text/x-python",
   "name": "python",
   "nbconvert_exporter": "python",
   "pygments_lexer": "ipython3",
   "version": "3.6.4"
  }
 },
 "nbformat": 4,
 "nbformat_minor": 2
}
