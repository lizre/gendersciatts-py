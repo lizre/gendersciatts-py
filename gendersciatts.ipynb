{
 "cells": [
  {
   "cell_type": "markdown",
   "metadata": {},
   "source": [
    "## Import and subset Gender-Science IAT data"
   ]
  },
  {
   "cell_type": "code",
   "execution_count": 17,
   "metadata": {},
   "outputs": [],
   "source": [
    "import numpy as np\n",
    "import pandas \n",
    "import matplotlib as plt\n",
    "import seaborn as sns\n",
    "import scipy\n",
    "import statsmodels.api as sm\n",
    "import statsmodels.formula.api as smf\n",
    "import statsmodels\n",
    "import glob"
   ]
  },
  {
   "cell_type": "code",
   "execution_count": 26,
   "metadata": {},
   "outputs": [],
   "source": [
    "genderiat = pandas.read_csv('gendersciiatdat.csv')"
   ]
  },
  {
   "cell_type": "markdown",
   "metadata": {},
   "source": [
    "## Descriptives"
   ]
  },
  {
   "cell_type": "code",
   "execution_count": 27,
   "metadata": {},
   "outputs": [
    {
     "data": {
      "text/html": [
       "<div>\n",
       "<style scoped>\n",
       "    .dataframe tbody tr th:only-of-type {\n",
       "        vertical-align: middle;\n",
       "    }\n",
       "\n",
       "    .dataframe tbody tr th {\n",
       "        vertical-align: top;\n",
       "    }\n",
       "\n",
       "    .dataframe thead th {\n",
       "        text-align: right;\n",
       "    }\n",
       "</style>\n",
       "<table border=\"1\" class=\"dataframe\">\n",
       "  <thead>\n",
       "    <tr style=\"text-align: right;\">\n",
       "      <th></th>\n",
       "      <th>implicit</th>\n",
       "      <th>explicit</th>\n",
       "      <th>politics</th>\n",
       "      <th>year</th>\n",
       "      <th>age</th>\n",
       "      <th>education</th>\n",
       "    </tr>\n",
       "    <tr>\n",
       "      <th>raceomb</th>\n",
       "      <th></th>\n",
       "      <th></th>\n",
       "      <th></th>\n",
       "      <th></th>\n",
       "      <th></th>\n",
       "      <th></th>\n",
       "    </tr>\n",
       "  </thead>\n",
       "  <tbody>\n",
       "    <tr>\n",
       "      <th>7.0</th>\n",
       "      <td>0.269313</td>\n",
       "      <td>4.784722</td>\n",
       "      <td>4.724638</td>\n",
       "      <td>2011.861111</td>\n",
       "      <td>24.028571</td>\n",
       "      <td>5.366197</td>\n",
       "    </tr>\n",
       "    <tr>\n",
       "      <th>3.0</th>\n",
       "      <td>0.269464</td>\n",
       "      <td>4.832075</td>\n",
       "      <td>4.910506</td>\n",
       "      <td>2012.098113</td>\n",
       "      <td>23.030189</td>\n",
       "      <td>6.027027</td>\n",
       "    </tr>\n",
       "    <tr>\n",
       "      <th>9.0</th>\n",
       "      <td>0.291069</td>\n",
       "      <td>4.804140</td>\n",
       "      <td>4.546926</td>\n",
       "      <td>2011.490446</td>\n",
       "      <td>25.366559</td>\n",
       "      <td>5.695793</td>\n",
       "    </tr>\n",
       "    <tr>\n",
       "      <th>2.0</th>\n",
       "      <td>0.293708</td>\n",
       "      <td>4.937690</td>\n",
       "      <td>4.672956</td>\n",
       "      <td>2011.553191</td>\n",
       "      <td>23.767584</td>\n",
       "      <td>6.287926</td>\n",
       "    </tr>\n",
       "    <tr>\n",
       "      <th>1.0</th>\n",
       "      <td>0.298682</td>\n",
       "      <td>4.916667</td>\n",
       "      <td>4.310345</td>\n",
       "      <td>2010.983333</td>\n",
       "      <td>26.559322</td>\n",
       "      <td>5.741379</td>\n",
       "    </tr>\n",
       "    <tr>\n",
       "      <th>5.0</th>\n",
       "      <td>0.303059</td>\n",
       "      <td>4.971850</td>\n",
       "      <td>4.699164</td>\n",
       "      <td>2011.359249</td>\n",
       "      <td>28.621918</td>\n",
       "      <td>5.808219</td>\n",
       "    </tr>\n",
       "    <tr>\n",
       "      <th>8.0</th>\n",
       "      <td>0.305332</td>\n",
       "      <td>4.680000</td>\n",
       "      <td>4.813609</td>\n",
       "      <td>2011.388571</td>\n",
       "      <td>24.962536</td>\n",
       "      <td>5.653295</td>\n",
       "    </tr>\n",
       "    <tr>\n",
       "      <th>6.0</th>\n",
       "      <td>0.357507</td>\n",
       "      <td>4.802758</td>\n",
       "      <td>4.707095</td>\n",
       "      <td>2011.616478</td>\n",
       "      <td>27.978797</td>\n",
       "      <td>6.293658</td>\n",
       "    </tr>\n",
       "    <tr>\n",
       "      <th>4.0</th>\n",
       "      <td>0.389733</td>\n",
       "      <td>4.911765</td>\n",
       "      <td>4.121212</td>\n",
       "      <td>2011.382353</td>\n",
       "      <td>24.606061</td>\n",
       "      <td>5.727273</td>\n",
       "    </tr>\n",
       "  </tbody>\n",
       "</table>\n",
       "</div>"
      ],
      "text/plain": [
       "         implicit  explicit  politics         year        age  education\n",
       "raceomb                                                                 \n",
       "7.0      0.269313  4.784722  4.724638  2011.861111  24.028571   5.366197\n",
       "3.0      0.269464  4.832075  4.910506  2012.098113  23.030189   6.027027\n",
       "9.0      0.291069  4.804140  4.546926  2011.490446  25.366559   5.695793\n",
       "2.0      0.293708  4.937690  4.672956  2011.553191  23.767584   6.287926\n",
       "1.0      0.298682  4.916667  4.310345  2010.983333  26.559322   5.741379\n",
       "5.0      0.303059  4.971850  4.699164  2011.359249  28.621918   5.808219\n",
       "8.0      0.305332  4.680000  4.813609  2011.388571  24.962536   5.653295\n",
       "6.0      0.357507  4.802758  4.707095  2011.616478  27.978797   6.293658\n",
       "4.0      0.389733  4.911765  4.121212  2011.382353  24.606061   5.727273"
      ]
     },
     "execution_count": 27,
     "metadata": {},
     "output_type": "execute_result"
    }
   ],
   "source": [
    "# means of variables grouped by participant race, sorted by IAT scores\n",
    "genderiat.groupby('raceomb').mean().sort_values(by = 'implicit')\n"
   ]
  },
  {
   "cell_type": "markdown",
   "metadata": {},
   "source": [
    "# matplotlib"
   ]
  },
  {
   "cell_type": "markdown",
   "metadata": {},
   "source": [
    "### Scatter IAT scores by age"
   ]
  },
  {
   "cell_type": "code",
   "execution_count": 28,
   "metadata": {},
   "outputs": [
    {
     "data": {
      "text/plain": [
       "Text(0.5,0,'Participant age')"
      ]
     },
     "execution_count": 28,
     "metadata": {},
     "output_type": "execute_result"
    },
    {
     "data": {
      "image/png": "[encoded data removed]",
      "text/plain": [
       "<matplotlib.figure.Figure at 0x1c1565d710>"
      ]
     },
     "metadata": {},
     "output_type": "display_data"
    }
   ],
   "source": [
    "%matplotlib inline\n",
    "import matplotlib.pyplot as plt\n",
    "\n",
    "# Scatter iat \n",
    "plt.rcParams.update({'font.size': 16}) # make default font size 16\n",
    "genderiat.plot(kind='scatter', x='age', y='implicit') \n",
    "plt.ylabel('IAT Scores')\n",
    "plt.xlabel('Participant age')"
   ]
  },
  {
   "cell_type": "markdown",
   "metadata": {},
   "source": [
    "### Plot average IAT score by year"
   ]
  },
  {
   "cell_type": "code",
   "execution_count": 108,
   "metadata": {},
   "outputs": [
    {
     "name": "stdout",
     "output_type": "stream",
     "text": [
      "year\n",
      "2007    0.401078\n",
      "2008    0.359111\n",
      "2009    0.362537\n",
      "2010    0.367500\n",
      "2011    0.343603\n",
      "2012    0.360266\n",
      "2013    0.325889\n",
      "2014    0.314612\n",
      "2015    0.306241\n",
      "Name: implicit, dtype: float64\n"
     ]
    },
    {
     "data": {
      "text/plain": [
       "<matplotlib.collections.PathCollection at 0x1a205a8be0>"
      ]
     },
     "execution_count": 108,
     "metadata": {},
     "output_type": "execute_result"
    },
    {
     "data": {
      "image/png": "[encoded data removed]",
      "text/plain": [
       "<matplotlib.figure.Figure at 0x1a20426d68>"
      ]
     },
     "metadata": {},
     "output_type": "display_data"
    }
   ],
   "source": [
    "print(genderiat.groupby('year')['implicit'].mean()) # get average iat score each year\n",
    "    # saved as Series of iat scores; does not save year as a column\n",
    "# plot yearwise iat scores averages by year\n",
    "plt.scatter([2007, 2008, 2009, 2010, 2011, 2012, 2013, 2014, 2015], genderiat.groupby('year')['implicit'].mean())"
   ]
  },
  {
   "cell_type": "markdown",
   "metadata": {},
   "source": [
    "### Histogram of IAT scores"
   ]
  },
  {
   "cell_type": "code",
   "execution_count": 109,
   "metadata": {},
   "outputs": [
    {
     "data": {
      "text/plain": [
       "(array([1.000e+00, 4.000e+00, 2.500e+01, 1.880e+02, 7.320e+02, 1.678e+03,\n",
       "        2.434e+03, 1.932e+03, 6.510e+02, 5.600e+01]),\n",
       " array([-1.78898611, -1.45824019, -1.12749428, -0.79674836, -0.46600244,\n",
       "        -0.13525652,  0.1954894 ,  0.52623531,  0.85698123,  1.18772715,\n",
       "         1.51847307]),\n",
       " <a list of 10 Patch objects>)"
      ]
     },
     "execution_count": 109,
     "metadata": {},
     "output_type": "execute_result"
    },
    {
     "data": {
      "image/png": "[encoded data removed]",
      "text/plain": [
       "<matplotlib.figure.Figure at 0x1a201d81d0>"
      ]
     },
     "metadata": {},
     "output_type": "display_data"
    }
   ],
   "source": [
    "plt.hist(genderiat['implicit']) "
   ]
  },
  {
   "cell_type": "markdown",
   "metadata": {},
   "source": [
    "# seaborn"
   ]
  },
  {
   "cell_type": "markdown",
   "metadata": {},
   "source": [
    "### Barplot IAT scores by participant gender"
   ]
  },
  {
   "cell_type": "code",
   "execution_count": 29,
   "metadata": {},
   "outputs": [
    {
     "data": {
      "text/plain": [
       "Text(0,0.5,'IAT score')"
      ]
     },
     "execution_count": 29,
     "metadata": {},
     "output_type": "execute_result"
    },
    {
     "data": {
      "image/png": "[encoded data removed]",
      "text/plain": [
       "<matplotlib.figure.Figure at 0x1c1e685c18>"
      ]
     },
     "metadata": {},
     "output_type": "display_data"
    }
   ],
   "source": [
    "# looks like some gender responses are \".\"; consider to be missing and remove\n",
    "genderiat['sex'].value_counts()\n",
    "genderiat.drop(genderiat[genderiat.sex == \".\"].index, inplace=True)\n",
    "\n",
    "# barplot of iat scores by gender using seaborn\n",
    "import seaborn as sns\n",
    "sns.barplot(x='sex', y='implicit', data=genderiat)\n",
    "plt.ylim(0, .6)\n",
    "plt.xlabel('Participant gender', fontsize=16)\n",
    "plt.ylabel('IAT score', fontsize=16)\n"
   ]
  },
  {
   "cell_type": "code",
   "execution_count": 30,
   "metadata": {},
   "outputs": [
    {
     "name": "stdout",
     "output_type": "stream",
     "text": [
      "sex\n",
      "f    0.322375\n",
      "m    0.388038\n",
      "Name: implicit, dtype: float64\n"
     ]
    }
   ],
   "source": [
    "print(genderiat.groupby('sex')['implicit'].mean())\n"
   ]
  },
  {
   "cell_type": "code",
   "execution_count": 62,
   "metadata": {},
   "outputs": [
    {
     "data": {
      "text/html": [
       "<div>\n",
       "<style scoped>\n",
       "    .dataframe tbody tr th:only-of-type {\n",
       "        vertical-align: middle;\n",
       "    }\n",
       "\n",
       "    .dataframe tbody tr th {\n",
       "        vertical-align: top;\n",
       "    }\n",
       "\n",
       "    .dataframe thead th {\n",
       "        text-align: right;\n",
       "    }\n",
       "</style>\n",
       "<table border=\"1\" class=\"dataframe\">\n",
       "  <thead>\n",
       "    <tr style=\"text-align: right;\">\n",
       "      <th></th>\n",
       "      <th>implicit</th>\n",
       "      <th>explicit</th>\n",
       "      <th>raceomb</th>\n",
       "      <th>sex</th>\n",
       "      <th>politics</th>\n",
       "      <th>year</th>\n",
       "      <th>age</th>\n",
       "      <th>education</th>\n",
       "      <th>new_col</th>\n",
       "      <th>participant_number</th>\n",
       "    </tr>\n",
       "  </thead>\n",
       "  <tbody>\n",
       "    <tr>\n",
       "      <th>0</th>\n",
       "      <td>1.013018</td>\n",
       "      <td>4.5</td>\n",
       "      <td>6.0</td>\n",
       "      <td>f</td>\n",
       "      <td>3.0</td>\n",
       "      <td>2012</td>\n",
       "      <td>21.0</td>\n",
       "      <td>6.0</td>\n",
       "      <td>1</td>\n",
       "      <td>1</td>\n",
       "    </tr>\n",
       "    <tr>\n",
       "      <th>1</th>\n",
       "      <td>0.438193</td>\n",
       "      <td>5.0</td>\n",
       "      <td>6.0</td>\n",
       "      <td>f</td>\n",
       "      <td>4.0</td>\n",
       "      <td>2010</td>\n",
       "      <td>17.0</td>\n",
       "      <td>3.0</td>\n",
       "      <td>2</td>\n",
       "      <td>2</td>\n",
       "    </tr>\n",
       "    <tr>\n",
       "      <th>2</th>\n",
       "      <td>0.715223</td>\n",
       "      <td>5.0</td>\n",
       "      <td>NaN</td>\n",
       "      <td>m</td>\n",
       "      <td>NaN</td>\n",
       "      <td>2009</td>\n",
       "      <td>28.0</td>\n",
       "      <td>NaN</td>\n",
       "      <td>3</td>\n",
       "      <td>3</td>\n",
       "    </tr>\n",
       "    <tr>\n",
       "      <th>3</th>\n",
       "      <td>-0.015030</td>\n",
       "      <td>4.0</td>\n",
       "      <td>6.0</td>\n",
       "      <td>f</td>\n",
       "      <td>4.0</td>\n",
       "      <td>2013</td>\n",
       "      <td>25.0</td>\n",
       "      <td>7.0</td>\n",
       "      <td>4</td>\n",
       "      <td>4</td>\n",
       "    </tr>\n",
       "    <tr>\n",
       "      <th>4</th>\n",
       "      <td>0.560251</td>\n",
       "      <td>3.5</td>\n",
       "      <td>NaN</td>\n",
       "      <td>f</td>\n",
       "      <td>4.0</td>\n",
       "      <td>2014</td>\n",
       "      <td>19.0</td>\n",
       "      <td>7.0</td>\n",
       "      <td>5</td>\n",
       "      <td>5</td>\n",
       "    </tr>\n",
       "  </tbody>\n",
       "</table>\n",
       "</div>"
      ],
      "text/plain": [
       "   implicit  explicit  raceomb sex  politics  year   age  education  new_col  \\\n",
       "0  1.013018       4.5      6.0   f       3.0  2012  21.0        6.0        1   \n",
       "1  0.438193       5.0      6.0   f       4.0  2010  17.0        3.0        2   \n",
       "2  0.715223       5.0      NaN   m       NaN  2009  28.0        NaN        3   \n",
       "3 -0.015030       4.0      6.0   f       4.0  2013  25.0        7.0        4   \n",
       "4  0.560251       3.5      NaN   f       4.0  2014  19.0        7.0        5   \n",
       "\n",
       "   participant_number  \n",
       "0                   1  \n",
       "1                   2  \n",
       "2                   3  \n",
       "3                   4  \n",
       "4                   5  "
      ]
     },
     "execution_count": 62,
     "metadata": {},
     "output_type": "execute_result"
    }
   ],
   "source": [
    "genderiat['participant_number'] = range(1, len(genderiat) + 1)\n",
    "genderiat.head()"
   ]
  },
  {
   "cell_type": "markdown",
   "metadata": {},
   "source": [
    "# scipy"
   ]
  },
  {
   "cell_type": "markdown",
   "metadata": {},
   "source": [
    "### T test comparing IAT scores of females to males"
   ]
  },
  {
   "cell_type": "code",
   "execution_count": 71,
   "metadata": {},
   "outputs": [
    {
     "name": "stdout",
     "output_type": "stream",
     "text": [
      "-6.670723187484326 2.721590706855609e-11\n"
     ]
    }
   ],
   "source": [
    "import scipy\n",
    "females = genderiat[genderiat['sex'] == 'f'].groupby('participant_number').mean()\n",
    "males = genderiat[genderiat['sex'] == 'm'].groupby('participant_number').mean()\n",
    "t,p = scipy.stats.ttest_ind(females['implicit'], males['implicit'])\n",
    "print(t, p)"
   ]
  },
  {
   "cell_type": "markdown",
   "metadata": {},
   "source": [
    "### Correlation of explicit and implicit"
   ]
  },
  {
   "cell_type": "code",
   "execution_count": 87,
   "metadata": {},
   "outputs": [
    {
     "name": "stdout",
     "output_type": "stream",
     "text": [
      "0.22 0\n"
     ]
    }
   ],
   "source": [
    "r,p = scipy.stats.pearsonr(genderiat['explicit'], genderiat['implicit'])\n",
    "print(round(r, 2), round(int(p)))\n"
   ]
  },
  {
   "cell_type": "markdown",
   "metadata": {},
   "source": [
    "# statsmodels"
   ]
  },
  {
   "cell_type": "markdown",
   "metadata": {},
   "source": [
    "### between-subject ANOVA"
   ]
  },
  {
   "cell_type": "code",
   "execution_count": 33,
   "metadata": {},
   "outputs": [
    {
     "name": "stdout",
     "output_type": "stream",
     "text": [
      "                  sum_sq      df          F        PR(>F)\n",
      "sex             7.024142     1.0  43.890983  3.709442e-11\n",
      "raceomb         0.405978     1.0   2.536793  1.112622e-01\n",
      "raceomb:sex     0.490308     1.0   3.063732  8.009807e-02\n",
      "Residual     1212.273587  7575.0        NaN           NaN\n"
     ]
    }
   ],
   "source": [
    "btw_aov_result = smf.ols('implicit ~ raceomb * sex', genderiat).fit()\n",
    "btw_aov_table = sm.stats.anova_lm(btw_aov_result, typ=2)\n",
    "print(btw_aov_table)\n",
    "\n"
   ]
  },
  {
   "cell_type": "markdown",
   "metadata": {},
   "source": [
    "# pymc3"
   ]
  },
  {
   "cell_type": "code",
   "execution_count": null,
   "metadata": {},
   "outputs": [],
   "source": [
    "# PyMC3 is a Python package for Bayesian statistical modeling and probabilistic machine \n",
    "# learning which focuses on advanced Markov chain Monte Carlo and variational fitting algorithms."
   ]
  },
  {
   "cell_type": "code",
   "execution_count": 36,
   "metadata": {},
   "outputs": [],
   "source": [
    "# create a copy of the data for these analyses\n",
    "pmdf = genderiat.copy(deep=True)"
   ]
  }
 ],
 "metadata": {
  "kernelspec": {
   "display_name": "Python 3",
   "language": "python",
   "name": "python3"
  },
  "language_info": {
   "codemirror_mode": {
    "name": "ipython",
    "version": 3
   },
   "file_extension": ".py",
   "mimetype": "text/x-python",
   "name": "python",
   "nbconvert_exporter": "python",
   "pygments_lexer": "ipython3",
   "version": "3.6.4"
  }
 },
 "nbformat": 4,
 "nbformat_minor": 2
}
